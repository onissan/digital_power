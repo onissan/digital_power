{
 "cells": [
  {
   "cell_type": "markdown",
   "metadata": {},
   "source": [
    "# POWER STAGE DESIGN\n",
    "By Omri Nissan <br /> Nov. 2nd, 2019\n",
    "\n",
    "## Description\n",
    "This is jupyterlab will help choose compoents appropriate for power stage of the digital converter. The requirement for the design is:\n",
    "\n",
    "| Parameter                    | Value   |\n",
    "|------                        |------   |\n",
    "|   Efficiency (at Full Load)  | >90%    |\n",
    "|   Output Power               | 10W     |\n",
    "|   Output Voltage             | 10V     |\n",
    "|   Output Current             | 1A      |\n",
    "|   Input Voltage Buck         | 20V     |\n",
    "|   Input Voltage Boost        | 5V      |\n",
    "|   Output Voltage Ripple      | 1%      |\n",
    "|   Input Voltage Ripple       | 1%      |\n",
    "|   Line Regulation            | 10%     |\n",
    "|   Load Regulation            | 5%      |\n",
    "\n",
    "## Resources\n",
    "Calculations of a 4 Switch Buck-Boost: http://www.ti.com/lit/an/slva535b/slva535b.pdf <br />\n",
    "Calculation of a Buck Converter: http://www.ti.com/lit/an/slva477b/slva477b.pdf <br />\n",
    "Calculation of a Boost Converter: http://www.ti.com/lit/an/slva372c/slva372c.pdf <br />\n",
    "Gate Resistor Determination: http://www.ti.com/lit/an/slla385/slla385.pdf <br />\n",
    "Current-mode Control Theory: http://www.ti.com/cn/lit/an/snva555/snva555.pdf \n",
    "\n"
   ]
  },
  {
   "cell_type": "code",
   "execution_count": 248,
   "metadata": {},
   "outputs": [],
   "source": [
    "# Import necessary libraries for the project and define output format\n",
    "\n",
    "from astropy import units as u\n",
    "import numpy as np\n",
    "\n",
    "from ipywidgets import interact, interactive, fixed, interact_manual, Layout, Box\n",
    "import ipywidgets as widgets\n",
    "from IPython.display import Math\n",
    "\n",
    "from scipy import signal\n",
    "import matplotlib.pyplot as plt\n",
    "\n",
    "import pandas as pd\n",
    "\n",
    "f = '{0:0.3f}'.format"
   ]
  },
  {
   "cell_type": "code",
   "execution_count": 255,
   "metadata": {},
   "outputs": [],
   "source": [
    "# Specs\n",
    "n                = 0.9          # Efficiency\n",
    "L                = 220 * u.uH   # Inductor Value - NOT FINAL VALUE\n",
    "V_fb             = 0.5 * u.V    # Switching Frequency  \n",
    "f_sw             = 200 * u.kHz  # Switching Frequency  \n",
    "P_out            = 10 * u.W     # Output Power\n",
    "I_out            = 1 * u.A      # Output Current\n",
    "V_out            = 10 * u.V     # Output Voltage\n",
    "V_in_max         = 20 * u.V     # Maximum Input Voltage\n",
    "V_in_min         = 5 * u.V      # Minmum Input Voltage\n",
    "I_L_ripple       = 0.3 * I_out  # Indutor Current Ripple    \n",
    "V_in_ripple_max  = 0.01         # Input Voltage Ripple\n",
    "V_out_ripple_max = 0.01         # Output Voltage Ripple"
   ]
  },
  {
   "cell_type": "code",
   "execution_count": 256,
   "metadata": {},
   "outputs": [
    {
     "name": "stdout",
     "output_type": "stream",
     "text": [
      "Recommended R_fb2: 5.000 kOhm\n",
      "R_fb1: 1.000 MOhm & R_fb2: 52.632 kOhm\n",
      "V_out w/ error: 10.060 V\n"
     ]
    }
   ],
   "source": [
    "# Feedback network based on 1% standard resistor values or less\n",
    "I_fb    = 1 * u.uA\n",
    "I_Rfb_2 = 100 * I_fb\n",
    "\n",
    "R_fb2_recommended = V_fb / I_Rfb_2\n",
    "print('Recommended R_fb2:', f(R_fb2_recommended.to(u.kOhm)))\n",
    "\n",
    "R_fb1 = 1 * u.MOhm\n",
    "R_fb2 = V_fb / (V_out - V_fb) * R_fb1\n",
    "print('R_fb1: %s & R_fb2: %s' % (f(R_fb1.to(u.MOhm)), f(R_fb2.to(u.kOhm)))) \n",
    "\n",
    "R_fb2_closest = 52.3 * u.kOhm\n",
    "V_out_actual = V_fb / (R_fb2_closest / (R_fb1 + R_fb2_closest))\n",
    "print('V_out w/ error:', f(V_out_actual.to(u.V)))"
   ]
  },
  {
   "cell_type": "code",
   "execution_count": 257,
   "metadata": {},
   "outputs": [
    {
     "name": "stdout",
     "output_type": "stream",
     "text": [
      "Duty cycle for Buck converter is: 0.556\n",
      "Duty cycle for Boost converter is: 0.550\n"
     ]
    }
   ],
   "source": [
    "# Duty Cycle Definition\n",
    "\n",
    "# --------------------------------- Buck ------------------------------------------\n",
    "D_buck  = V_out / (V_in_max * n)\n",
    "print('Duty cycle for Buck converter is:', f(D_buck))\n",
    "\n",
    "# --------------------------------- Boost -----------------------------------------\n",
    "D_boost = 1 - ((V_in_min * n) / V_out)\n",
    "print('Duty cycle for Boost converter is:', f(D_boost))"
   ]
  },
  {
   "cell_type": "code",
   "execution_count": 258,
   "metadata": {},
   "outputs": [
    {
     "name": "stdout",
     "output_type": "stream",
     "text": [
      "For Buck converter the inductor must be bigger than: 83.333 uH\n",
      "For Boost converter the inductor must be bigger than: 20.833 uH\n",
      "Inductor Value choosen is: 100.000 uH\n",
      "Buck conveter current ripple is 0.250 A and max current of the indcutor is 1.125 A\n",
      "Boost conveter current ripple is 0.062 A and max current of the indcutor is 0.531 A\n"
     ]
    }
   ],
   "source": [
    "# Inductor Choice \n",
    "\n",
    "# Buck Converter Calculations\n",
    "L_buck = (V_out * (V_in_max - V_out)) / (I_L_ripple * f_sw * V_in_max)\n",
    "print('For Buck converter the inductor must be bigger than:', f(L_buck.to(u.uH)))\n",
    "\n",
    "# Boost Converter Calculations\n",
    "L_boost = (V_in_min**2 * (V_out - V_in_min)) / (I_L_ripple * f_sw * V_out**2)\n",
    "print('For Boost converter the inductor must be bigger than:', f(L_boost.to(u.uH)))\n",
    "\n",
    "L                 = 100 * u.uH\n",
    "I_buck_L_ripple   = (V_out * (V_in_max - V_out)) / (L * f_sw * V_in_max)\n",
    "I_buck_L_current  = I_out + I_buck_L_ripple/2\n",
    "I_boost_L_ripple  = (V_in_min**2 * (V_out - V_in_min)) / (L * f_sw * V_out**2)\n",
    "I_boost_L_current = P_out/V_in_max + I_boost_L_ripple/2\n",
    "print('Inductor Value choosen is:', f(L.to(u.uH)))\n",
    "print('Buck conveter current ripple is %s and max current of the indcutor is %s' % (f(I_buck_L_ripple.to(u.A)), f(I_buck_L_current.to(u.A))))\n",
    "print('Boost conveter current ripple is %s and max current of the indcutor is %s' % (f(I_boost_L_ripple.to(u.A)), f(I_boost_L_current.to(u.A))))"
   ]
  },
  {
   "cell_type": "code",
   "execution_count": 253,
   "metadata": {},
   "outputs": [
    {
     "name": "stdout",
     "output_type": "stream",
     "text": [
      "For Buck converter the max current is: 1.139 A\n",
      "For Boost converter the max current is: 2.292 A\n",
      "Converter must be able to drive switch currents of at least: 1.861 A\n"
     ]
    }
   ],
   "source": [
    "# Switch Choice \n",
    "I_lim = 2 * u.A\n",
    "\n",
    "# Buck Converter Calculations\n",
    "I_buck_delta      = ((V_in_max - V_out) * D_buck) / (f_sw * L)\n",
    "I_buck_sw_max     = I_out + I_buck_delta/2\n",
    "I_buck_max_out    = I_lim - I_buck_delta/2\n",
    "print('For Buck converter the max current is:', f(I_buck_sw_max.to(u.A)))\n",
    "\n",
    "\n",
    "# Boost Converter Calculations\n",
    "I_boost_delta       = (V_in_min * D_buck) / (f_sw * L)\n",
    "I_boost_sw_max      = (I_out/(1-D_boost)) + I_boost_delta/2\n",
    "I_boost_max_out     = (I_lim - I_boost_delta/2) * (1-D_boost)\n",
    "print('For Boost converter the max current is:', f(I_boost_sw_max.to(u.A)))\n",
    "\n",
    "print('Converter must be able to drive switch currents of at least:', f(max(I_buck_max_out,I_boost_max_out)))\n"
   ]
  },
  {
   "cell_type": "code",
   "execution_count": 254,
   "metadata": {},
   "outputs": [
    {
     "name": "stdout",
     "output_type": "stream",
     "text": [
      "Buck Capcitor for 1% output voltage ripple option 1: 1.875 uF\n",
      "Boost Capcitor for 1% output voltage ripple option 1: 27.500 uF\n"
     ]
    }
   ],
   "source": [
    "# Capacitor Choice\n",
    "'''\n",
    "Notes that buck and boost have reciprocal input and output voltage characteristic, thus same output capcitance can be used to\n",
    "generate the appropriate input voltage ripple.\n",
    "'''\n",
    "\n",
    "C_esr = 1 * u.mOhm\n",
    "\n",
    "# Buck Converter Calculations\n",
    "C_buck_out_1 = I_L_ripple / (8 * f_sw * V_out_ripple_max * V_out)\n",
    "# C_buck_out_2 = (L * (I_L_ripple**2)) / (2 * V_out_ripple_max * V_out)\n",
    "print('Buck Capcitor for 1% output voltage ripple option 1:', f(C_buck_out_1.to(u.uF)))\n",
    "# print('Buck Capcitor for 1% output voltage ripple option 2:', f(C_buck_out_2.to(u.uF)))\n",
    "\n",
    "# Boost Converter Calculations\n",
    "C_boost_out_1 = (I_out * D_boost)/ (f_sw * V_out_ripple_max * V_out)\n",
    "print('Boost Capcitor for 1% output voltage ripple option 1:', f(C_boost_out_1.to(u.uF)))\n",
    "\n",
    "C_out = 50 * u.uF\n",
    "C_in = 50 * u.uF"
   ]
  },
  {
   "cell_type": "code",
   "execution_count": null,
   "metadata": {},
   "outputs": [],
   "source": []
  }
 ],
 "metadata": {
  "kernelspec": {
   "display_name": "Python 3",
   "language": "python",
   "name": "python3"
  },
  "language_info": {
   "codemirror_mode": {
    "name": "ipython",
    "version": 3
   },
   "file_extension": ".py",
   "mimetype": "text/x-python",
   "name": "python",
   "nbconvert_exporter": "python",
   "pygments_lexer": "ipython3",
   "version": "3.7.4"
  }
 },
 "nbformat": 4,
 "nbformat_minor": 4
}
